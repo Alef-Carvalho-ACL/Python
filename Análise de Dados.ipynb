{
 "metadata": {
  "language_info": {
   "codemirror_mode": {
    "name": "ipython",
    "version": 3
   },
   "file_extension": ".py",
   "mimetype": "text/x-python",
   "name": "python",
   "nbconvert_exporter": "python",
   "pygments_lexer": "ipython3",
   "version": "3.7.3-final"
  },
  "orig_nbformat": 2,
  "kernelspec": {
   "name": "python3",
   "display_name": "Python 3.7.3 64-bit ('Continuum': virtualenv)",
   "metadata": {
    "interpreter": {
     "hash": "0b35c82d466963d423a4c122b8930ab95691362a38a9d887770bf7e2432de0da"
    }
   }
  }
 },
 "nbformat": 4,
 "nbformat_minor": 2,
 "cells": [
  {
   "source": [
    "# Import"
   ],
   "cell_type": "markdown",
   "metadata": {}
  },
  {
   "cell_type": "code",
   "execution_count": null,
   "metadata": {},
   "outputs": [],
   "source": [
    "# Bibliotecas:\n",
    "import pandas as pd\n",
    "import sqlite3\n",
    "import pyodbc\n",
    "from glob import glob"
   ]
  },
  {
   "source": [
    "# Lendo os arquivos (caminho)"
   ],
   "cell_type": "markdown",
   "metadata": {}
  },
  {
   "cell_type": "code",
   "execution_count": null,
   "metadata": {},
   "outputs": [],
   "source": [
    "# Digite o caminho e não se espeça de inserir a extensão dele no final da str\n",
    "files = sorted(glob('C:\\\\Users\\\\lima.282\\\\Desktop\\\\20210331\\\\*.csv'))\n",
    "files"
   ]
  },
  {
   "source": [
    "# Trabalhando com a base"
   ],
   "cell_type": "markdown",
   "metadata": {}
  },
  {
   "cell_type": "code",
   "execution_count": null,
   "metadata": {},
   "outputs": [],
   "source": [
    "# Forma de concatenar todos os arquivos (caso tenham a mesma estrutura)\n",
    "# >> pd.concat((pd.read_csv(file) for file in files), ignore_index=True) <<"
   ]
  },
  {
   "cell_type": "code",
   "execution_count": null,
   "metadata": {},
   "outputs": [],
   "source": [
    "dfN = pd.read_csv(files[0], sep=';', encoding=\"utf_16_le\")\n",
    "dfN.head()"
   ]
  },
  {
   "cell_type": "code",
   "execution_count": null,
   "metadata": {},
   "outputs": [],
   "source": [
    "# Gravando no Excel:\n",
    "# >> df.to_excel('Base de CSR V2 20210331_0632.xlsx', index=False) <<"
   ]
  },
  {
   "source": [
    "# SQL"
   ],
   "cell_type": "markdown",
   "metadata": {}
  },
  {
   "cell_type": "code",
   "execution_count": null,
   "metadata": {},
   "outputs": [],
   "source": [
    "# Conexão com BD:\n",
    "server = 'servidor' \n",
    "database = 'banco de dados' \n",
    "username = 'usuário' \n",
    "password = 'senha' \n",
    "cnxn = pyodbc.connect('DRIVER={SQL Server};SERVER='+server+';DATABASE='+database+';UID='+username+';PWD='+ password)\n",
    "cursor = cnxn.cursor()"
   ]
  },
  {
   "cell_type": "code",
   "execution_count": null,
   "metadata": {},
   "outputs": [],
   "source": [
    "# Variável para efetuar gravação:\n",
    "schema = '[dbo]'\n",
    "tabela = '[BaseCSR]'\n",
    "colunas = 'DepartmentID,Name,GroupName'\n",
    "\n",
    "# Insert Dataframe into SQL Server:\n",
    "for index, row in df.iterrows():\n",
    "    cursor.execute('INSERT INTO '+schema+'.'+tabela+' ('+colunas+') values(?,?,?)', row.DepartmentID, row.Name, row.GroupName)\n",
    "cnxn.commit()\n",
    "\n",
    "# Fechar conexão:\n",
    "cursor.close()"
   ]
  },
  {
   "cell_type": "code",
   "execution_count": null,
   "metadata": {},
   "outputs": [],
   "source": []
  }
 ]
}
