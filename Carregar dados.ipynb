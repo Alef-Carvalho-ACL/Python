{
 "cells": [
  {
   "cell_type": "markdown",
   "metadata": {},
   "source": [
    "# Bibliotecas"
   ]
  },
  {
   "cell_type": "code",
   "execution_count": null,
   "metadata": {},
   "outputs": [],
   "source": [
    "import pandas as pd\n",
    "import pyodbc"
   ]
  },
  {
   "cell_type": "markdown",
   "metadata": {},
   "source": [
    "# Conexão SQL com pyodbc"
   ]
  },
  {
   "cell_type": "code",
   "execution_count": 70,
   "metadata": {},
   "outputs": [],
   "source": [
    "# Variáveis para estabelecer a conexão\n",
    "conn = pyodbc.connect('Trusted_Connection=yes',\n",
    "                      driver='{SQL Server}',\n",
    "                      server='localhost',\n",
    "                      database='Projetos')\n",
    "                    #   uid='MYUSER', pwd='MYPASSWORD')\n",
    "# Cursor para navegar dentro do *SQL                    \n",
    "cursor = conn.cursor()"
   ]
  },
  {
   "cell_type": "markdown",
   "metadata": {},
   "source": [
    "# Trabalhando com Pandas"
   ]
  },
  {
   "cell_type": "code",
   "execution_count": 3,
   "metadata": {},
   "outputs": [],
   "source": [
    "# Leitura do arquivo *CSV\n",
    "dfWave = pd.read_csv('../Base Wave.csv', sep=';')\n",
    "# Convertendo um campo para o formato de *Data\n",
    "dfWave['DATA_INICIO'] = pd.to_datetime(dfWave['DATA_INICIO'])"
   ]
  },
  {
   "cell_type": "markdown",
   "metadata": {},
   "source": [
    "# Variáveis para realizar a carga no banco de dados *SQL"
   ]
  },
  {
   "cell_type": "code",
   "execution_count": 4,
   "metadata": {},
   "outputs": [],
   "source": [
    "# Lista de apoio onde receberá as colunas do dataframe\n",
    "colunasSQL = []\n",
    "# Variável com o nome das colunas do dataframe **array\n",
    "colunas = dfWave.columns.values\n",
    "# Processo para interar o array\n",
    "for coluna in colunas:\n",
    "    colunasSQL.append(coluna)\n",
    "# Variáveis do SQL **Query:\n",
    "# Esquema existente no banco de dados\n",
    "schema = '[dbo]'\n",
    "# Nome da tabela existente no banco de dados\n",
    "tabela = '[Wave]'\n",
    "# Seleção dinâmica da quantidade de valores que serão feito input na **Query\n",
    "lenValues = (len(colunasSQL) * '?,')[:-1]\n",
    "# Query para efetuar a gravação dos dados no BD\n",
    "query = f\"\"\"INSERT INTO {schema}.{tabela} ({str(',').join(colunasSQL)}) values({lenValues})\"\"\"\n",
    "# Insert Dataframe into SQL Server:\n",
    "for index, row in dfWave.iterrows():\n",
    "    cursor.execute(query, tuple(row.values))\n",
    "cursor.commit()\n",
    "\n",
    "# Fechar conexão:\n",
    "cursor.close()"
   ]
  }
 ],
 "metadata": {
  "interpreter": {
   "hash": "004103aaff15c3bdf382cf3041fc16499dd70f8b40bb629eeec4e34f73f5dcec"
  },
  "kernelspec": {
   "display_name": "Python 3.9.1 64-bit",
   "name": "python3"
  },
  "language_info": {
   "codemirror_mode": {
    "name": "ipython",
    "version": 3
   },
   "file_extension": ".py",
   "mimetype": "text/x-python",
   "name": "python",
   "nbconvert_exporter": "python",
   "pygments_lexer": "ipython3",
   "version": "3.9.1"
  },
  "orig_nbformat": 4
 },
 "nbformat": 4,
 "nbformat_minor": 2
}
